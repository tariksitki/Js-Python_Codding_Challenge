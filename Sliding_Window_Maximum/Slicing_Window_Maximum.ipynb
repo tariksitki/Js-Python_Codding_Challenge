{
  "nbformat": 4,
  "nbformat_minor": 0,
  "metadata": {
    "colab": {
      "name": "Slicing_Window_Maximum.ipynb",
      "provenance": []
    },
    "kernelspec": {
      "name": "python3",
      "display_name": "Python 3"
    },
    "language_info": {
      "name": "python"
    }
  },
  "cells": [
    {
      "cell_type": "code",
      "execution_count": null,
      "metadata": {
        "id": "scHUd0WrwYqY"
      },
      "outputs": [],
      "source": [
        "# This is an interview question asked by Google.drawing\n",
        "\n",
        "#       // Given an array of integers and a number k, where 1 <= k <= length of the array, compute the maximum values of each subarray of length k.\n",
        "\n",
        "#       // given array = [10, 5, 2, 7, 8, 7] and k = 3, we should get: [10, 7, 8, 8], since:\n",
        "#       // 10 = max(10, 5, 2)\n",
        "#       // 7 = max(5, 2, 7)\n",
        "#       // 8 = max(2, 7, 8)\n",
        "#       // 8 = max(7, 8, 7)\n",
        "\n",
        "#       // expected outcome:\n",
        "#       // 10 = max(10, 5, 2)\n",
        "#       // 7 = max(5, 2, 7)\n",
        "#       // 8 = max(2, 7, 8)\n",
        "#       // 8 = max(7, 8, 7)"
      ]
    },
    {
      "cell_type": "code",
      "source": [
        "def myFunction(array, k):\n",
        "  for i in range(len(array) - (k-1)):\n",
        "    sliceArray = array[i : i + k]\n",
        "    maxSliceArray = max(sliceArray)\n",
        "    print(f\"{maxSliceArray} = max{tuple(sliceArray)}\")\n",
        "myFunction([10, 5, 2, 7, 8, 7], 3)"
      ],
      "metadata": {
        "colab": {
          "base_uri": "https://localhost:8080/"
        },
        "id": "Yx65pIHZ0eNw",
        "outputId": "f94dc73f-1a0c-4d39-e91e-f9a55022d9c6"
      },
      "execution_count": 38,
      "outputs": [
        {
          "output_type": "stream",
          "name": "stdout",
          "text": [
            "10 = max(10, 5, 2)\n",
            "7 = max(5, 2, 7)\n",
            "8 = max(2, 7, 8)\n",
            "8 = max(7, 8, 7)\n"
          ]
        }
      ]
    },
    {
      "cell_type": "code",
      "source": [
        "myFunction([10, 5, 2, 7, 8, 7, 10, 11, 12, 13], 4)"
      ],
      "metadata": {
        "colab": {
          "base_uri": "https://localhost:8080/"
        },
        "id": "O1YUUevy0HvR",
        "outputId": "7e0ed2a0-97af-4fdc-ee71-f423fbf1c403"
      },
      "execution_count": 39,
      "outputs": [
        {
          "output_type": "stream",
          "name": "stdout",
          "text": [
            "10 = max(10, 5, 2, 7)\n",
            "8 = max(5, 2, 7, 8)\n",
            "8 = max(2, 7, 8, 7)\n",
            "10 = max(7, 8, 7, 10)\n",
            "11 = max(8, 7, 10, 11)\n",
            "12 = max(7, 10, 11, 12)\n",
            "13 = max(10, 11, 12, 13)\n"
          ]
        }
      ]
    }
  ]
}