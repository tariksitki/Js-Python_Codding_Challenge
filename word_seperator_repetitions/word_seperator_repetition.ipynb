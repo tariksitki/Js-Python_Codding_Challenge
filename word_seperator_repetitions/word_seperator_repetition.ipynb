{
  "nbformat": 4,
  "nbformat_minor": 0,
  "metadata": {
    "colab": {
      "name": "word_seperator_repetition.ipynb",
      "provenance": [],
      "collapsed_sections": [],
      "authorship_tag": "ABX9TyPseR0P1MkVEFehX+O/YMAG",
      "include_colab_link": true
    },
    "kernelspec": {
      "name": "python3",
      "display_name": "Python 3"
    },
    "language_info": {
      "name": "python"
    }
  },
  "cells": [
    {
      "cell_type": "markdown",
      "metadata": {
        "id": "view-in-github",
        "colab_type": "text"
      },
      "source": [
        "<a href=\"https://colab.research.google.com/github/tariksitki/Js-Python_Codding_Challenge/blob/main/word_seperator_repetition.ipynb\" target=\"_parent\"><img src=\"https://colab.research.google.com/assets/colab-badge.svg\" alt=\"Open In Colab\"/></a>"
      ]
    },
    {
      "cell_type": "code",
      "execution_count": 11,
      "metadata": {
        "colab": {
          "base_uri": "https://localhost:8080/"
        },
        "id": "jlo5jVksf0O1",
        "outputId": "0903d3e7-3a3d-467d-d476-7b2d209d51ca"
      },
      "outputs": [
        {
          "output_type": "stream",
          "name": "stdout",
          "text": [
            "Please enter leaving a space between a word a   \n",
            "seperator and a number(how many times repetition)ali + 10\n",
            "ali+ali+ali+ali+ali+ali+ali+ali+ali+ali+ali\n"
          ]
        }
      ],
      "source": [
        "def myFunction() :\n",
        "  user = input(\"Please enter leaving a space between a word a \\\n",
        "  \\nseperator and a number(how many times repetition)\").split(\" \")\n",
        "\n",
        "  word = user[0];\n",
        "  seperator = user[1]\n",
        "  repetition = int(user[2])\n",
        "  result = \"\"\n",
        "\n",
        "  for i in range(repetition):\n",
        "    result += word + seperator\n",
        "    if i == (repetition - 1):\n",
        "      result += word\n",
        "  print(result)\n",
        "\n",
        "myFunction()"
      ]
    },
    {
      "cell_type": "code",
      "source": [
        ""
      ],
      "metadata": {
        "id": "1BapIGCuf6Kl"
      },
      "execution_count": null,
      "outputs": []
    }
  ]
}