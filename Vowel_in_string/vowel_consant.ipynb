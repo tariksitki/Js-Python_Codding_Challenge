{
  "nbformat": 4,
  "nbformat_minor": 0,
  "metadata": {
    "colab": {
      "name": "vowel_consant.ipynb",
      "provenance": [],
      "collapsed_sections": [],
      "authorship_tag": "ABX9TyN1Da6UJYsOqj6Is0wnYF9w",
      "include_colab_link": true
    },
    "kernelspec": {
      "name": "python3",
      "display_name": "Python 3"
    },
    "language_info": {
      "name": "python"
    }
  },
  "cells": [
    {
      "cell_type": "markdown",
      "metadata": {
        "id": "view-in-github",
        "colab_type": "text"
      },
      "source": [
        "<a href=\"https://colab.research.google.com/github/tariksitki/Js-Python_Codding_Challenge/blob/main/vowel_consant.ipynb\" target=\"_parent\"><img src=\"https://colab.research.google.com/assets/colab-badge.svg\" alt=\"Open In Colab\"/></a>"
      ]
    },
    {
      "cell_type": "code",
      "execution_count": 4,
      "metadata": {
        "colab": {
          "base_uri": "https://localhost:8080/"
        },
        "id": "iqnvKwah2oAK",
        "outputId": "3fae25cc-1632-4c76-b190-69c2a4b3cdd4"
      },
      "outputs": [
        {
          "output_type": "stream",
          "name": "stdout",
          "text": [
            "Enter a sentence please: asdfghjklö\n",
            "vowels = 2\n",
            "consonant = 8\n"
          ]
        }
      ],
      "source": [
        "## in python define we variables inner of function\n",
        "\n",
        "def vow_cons():\n",
        "    vowels = \"aeoöiuü\";\n",
        "    consonant = \"bcdfghjklmnprstvyzqwx\";\n",
        "    vow_counter = 0\n",
        "    cons_counter = 0\n",
        "\n",
        "    user = input(\"Enter a sentence please: \")\n",
        "    for i in user:\n",
        "      if i in vowels:\n",
        "        vow_counter += 1\n",
        "      elif i in consonant:\n",
        "        cons_counter +=1\n",
        "    return (f\"vowels = {vow_counter}\\nconsonant = {cons_counter}\")\n",
        "\n",
        "print(vow_cons())\n"
      ]
    },
    {
      "cell_type": "code",
      "source": [
        "####  2. Method:  with len func\n",
        "\n",
        "\n",
        "def vow_cons2():\n",
        "    vowels = \"aeoöiuü\";\n",
        "    consonant = \"bcdfghjklmnprstvyzqwx\";\n",
        "    vow_empty = []\n",
        "    cons_empty = []\n",
        "    user = input(\"Enter a sentence please: \")\n",
        "    for i in user:\n",
        "      if i in vowels:\n",
        "        vow_empty.append(i)\n",
        "      elif i in consonant:\n",
        "        cons_empty.append(i)\n",
        "\n",
        "    return (f\"vowels = {len(vow_empty)}\\nconsonant = {len(cons_empty)}\")\n",
        "\n",
        "print(vow_cons2())"
      ],
      "metadata": {
        "colab": {
          "base_uri": "https://localhost:8080/"
        },
        "id": "llJKUrUr2sVy",
        "outputId": "bbc904c5-53e1-405c-fb9c-34b7a6c507f3"
      },
      "execution_count": 9,
      "outputs": [
        {
          "output_type": "stream",
          "name": "stdout",
          "text": [
            "Enter a sentence please: asdfghjklö\n",
            "vowels = 2\n",
            "consonant = 8\n"
          ]
        }
      ]
    },
    {
      "cell_type": "code",
      "source": [
        ""
      ],
      "metadata": {
        "id": "I1KrY-Ox2sYN"
      },
      "execution_count": null,
      "outputs": []
    },
    {
      "cell_type": "code",
      "source": [
        ""
      ],
      "metadata": {
        "id": "6PKp7mDs2sbw"
      },
      "execution_count": null,
      "outputs": []
    },
    {
      "cell_type": "code",
      "source": [
        ""
      ],
      "metadata": {
        "id": "yDrjgGOn2sd6"
      },
      "execution_count": null,
      "outputs": []
    },
    {
      "cell_type": "code",
      "source": [
        ""
      ],
      "metadata": {
        "id": "v2JsQfiH2sfe"
      },
      "execution_count": null,
      "outputs": []
    },
    {
      "cell_type": "code",
      "source": [
        ""
      ],
      "metadata": {
        "id": "mqlVDZJ32shT"
      },
      "execution_count": null,
      "outputs": []
    }
  ]
}