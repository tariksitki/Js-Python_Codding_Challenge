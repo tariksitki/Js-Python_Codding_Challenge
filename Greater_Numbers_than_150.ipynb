{
  "nbformat": 4,
  "nbformat_minor": 0,
  "metadata": {
    "colab": {
      "name": "Greater_Numbers_than_150.ipynb",
      "provenance": [],
      "authorship_tag": "ABX9TyNzKGb1l5rnMZTGkVHDi8rL",
      "include_colab_link": true
    },
    "kernelspec": {
      "name": "python3",
      "display_name": "Python 3"
    },
    "language_info": {
      "name": "python"
    }
  },
  "cells": [
    {
      "cell_type": "markdown",
      "metadata": {
        "id": "view-in-github",
        "colab_type": "text"
      },
      "source": [
        "<a href=\"https://colab.research.google.com/github/tariksitki/Js-Python_Codding_Challenge/blob/main/Greater_Numbers_than_150.ipynb\" target=\"_parent\"><img src=\"https://colab.research.google.com/assets/colab-badge.svg\" alt=\"Open In Colab\"/></a>"
      ]
    },
    {
      "cell_type": "code",
      "execution_count": 13,
      "metadata": {
        "colab": {
          "base_uri": "https://localhost:8080/",
          "height": 36
        },
        "id": "qo5IcRZt2QkC",
        "outputId": "5b1a09de-e743-4aa7-df5c-8e03023ffa8a"
      },
      "outputs": [
        {
          "output_type": "execute_result",
          "data": {
            "application/vnd.google.colaboratory.intrinsic+json": {
              "type": "string"
            },
            "text/plain": [
              "'The Bigger Number than 150 are [167, 197, 198, 976, 981]'"
            ]
          },
          "metadata": {},
          "execution_count": 13
        }
      ],
      "source": [
        "## Write a Python/JS code to find the numbers \n",
        "## that are grater than 150 at below text, and sort these numbers.\n",
        "\n",
        "text = \"Maradona spent 5 years at Argentinos Juniors, from 1976 to 1981,\\\n",
        "scoring 115 goals in 167 appearances.\"\n",
        "## Cümle sonunda . oldugu icin devam etmiyor. aksi takdirde sayi olsa out of range olur\n",
        "\n",
        "def number_finder(text):\n",
        "  bigger_number = []\n",
        "  empty = \"\"\n",
        "\n",
        "  for i in range(len(text)):\n",
        "    if text[i].isdigit():\n",
        "      if text[i + 1].isdigit() and text[i + 2].isdigit():\n",
        "        empty += text[i] + text[i + 1] + text[i + 2]\n",
        "        if int(empty) > 150:\n",
        "          bigger_number.append(int(empty))\n",
        "          empty = \"\"\n",
        "        else:\n",
        "          empty = \"\"\n",
        "  bigger_number.sort()\n",
        "  return f\"The Bigger Number than 150 are {bigger_number}\" \n",
        "\n",
        "number_finder(text)"
      ]
    }
  ]
}