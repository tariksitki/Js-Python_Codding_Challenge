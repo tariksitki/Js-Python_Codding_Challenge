{
  "nbformat": 4,
  "nbformat_minor": 0,
  "metadata": {
    "colab": {
      "name": "Amazon_Interview_Task.ipynb",
      "provenance": [],
      "collapsed_sections": [],
      "authorship_tag": "ABX9TyNGtLf0PSaFIg2r3FzJCLSw",
      "include_colab_link": true
    },
    "kernelspec": {
      "name": "python3",
      "display_name": "Python 3"
    },
    "language_info": {
      "name": "python"
    }
  },
  "cells": [
    {
      "cell_type": "markdown",
      "metadata": {
        "id": "view-in-github",
        "colab_type": "text"
      },
      "source": [
        "<a href=\"https://colab.research.google.com/github/tariksitki/Js-Python_Codding_Challenge/blob/main/Amazon_Interview_Task.ipynb\" target=\"_parent\"><img src=\"https://colab.research.google.com/assets/colab-badge.svg\" alt=\"Open In Colab\"/></a>"
      ]
    },
    {
      "cell_type": "code",
      "execution_count": 30,
      "metadata": {
        "colab": {
          "base_uri": "https://localhost:8080/"
        },
        "id": "PXLaLABXzLaa",
        "outputId": "651233de-6157-4155-88bc-c307e2d92fc9"
      },
      "outputs": [
        {
          "output_type": "stream",
          "name": "stdout",
          "text": [
            "('bcb', 3)\n"
          ]
        }
      ],
      "source": [
        "def longestString(string, k):\n",
        "  longest = \"\"\n",
        "  for i in range(len(string) - k+1):\n",
        "    for j in range(len(string), i + k-1, -1):\n",
        "      sub = string[i : j]\n",
        "      distinct = set(sub)\n",
        "      if (len(distinct) == k) and (len(sub) > len(longest)):\n",
        "        longest = sub\n",
        "\n",
        "  return (longest, len(longest))\n",
        "\n",
        "print(longestString(\"abcba\", 2))"
      ]
    }
  ]
}