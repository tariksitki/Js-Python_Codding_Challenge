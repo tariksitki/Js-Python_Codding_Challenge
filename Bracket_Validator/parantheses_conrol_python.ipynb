{
  "nbformat": 4,
  "nbformat_minor": 0,
  "metadata": {
    "colab": {
      "name": "parantheses_coding_challange.ipynb",
      "provenance": [],
      "collapsed_sections": []
    },
    "kernelspec": {
      "name": "python3",
      "display_name": "Python 3"
    },
    "language_info": {
      "name": "python"
    }
  },
  "cells": [
    {
      "cell_type": "code",
      "execution_count": 7,
      "metadata": {
        "colab": {
          "base_uri": "https://localhost:8080/",
          "height": 36
        },
        "id": "sgRdWKsSCDw5",
        "outputId": "e8d14f88-5cfd-4dc5-b453-5abbacaceb83"
      },
      "outputs": [
        {
          "output_type": "execute_result",
          "data": {
            "text/plain": [
              "'true'"
            ],
            "application/vnd.google.colaboratory.intrinsic+json": {
              "type": "string"
            }
          },
          "metadata": {},
          "execution_count": 7
        }
      ],
      "source": [
        "def paranthesesContoller(string) :\n",
        "  while (\"[]\" in string or \"{}\" in string or \"()\" in string) :\n",
        "    string = string.replace(\"[]\", \"\").replace(\"()\", \"\").replace(\"{}\", \"\")\n",
        "  if string == \"\":\n",
        "    return \"true\"\n",
        "  else :\n",
        "    return \"false\"\n",
        "\n",
        "paranthesesContoller(\"([])[{}](()){[{[{[{[]}]}]}]}((((())))){{{{}}}}\")"
      ]
    },
    {
      "cell_type": "code",
      "source": [
        "paranthesesContoller(\"([])[{}]\")"
      ],
      "metadata": {
        "colab": {
          "base_uri": "https://localhost:8080/",
          "height": 36
        },
        "id": "Nr7FVLc-CH9a",
        "outputId": "a5739733-bcfe-4455-b550-18b0201d60d3"
      },
      "execution_count": 8,
      "outputs": [
        {
          "output_type": "execute_result",
          "data": {
            "text/plain": [
              "'true'"
            ],
            "application/vnd.google.colaboratory.intrinsic+json": {
              "type": "string"
            }
          },
          "metadata": {},
          "execution_count": 8
        }
      ]
    },
    {
      "cell_type": "code",
      "source": [
        "paranthesesContoller(\"\")"
      ],
      "metadata": {
        "colab": {
          "base_uri": "https://localhost:8080/",
          "height": 36
        },
        "id": "lHwzzXBoDRj2",
        "outputId": "e125edbd-c0da-441a-ab61-a5d8ecbdd80e"
      },
      "execution_count": 9,
      "outputs": [
        {
          "output_type": "execute_result",
          "data": {
            "text/plain": [
              "'true'"
            ],
            "application/vnd.google.colaboratory.intrinsic+json": {
              "type": "string"
            }
          },
          "metadata": {},
          "execution_count": 9
        }
      ]
    },
    {
      "cell_type": "code",
      "source": [
        ""
      ],
      "metadata": {
        "id": "YUxmwTyxDRmI"
      },
      "execution_count": null,
      "outputs": []
    }
  ]
}