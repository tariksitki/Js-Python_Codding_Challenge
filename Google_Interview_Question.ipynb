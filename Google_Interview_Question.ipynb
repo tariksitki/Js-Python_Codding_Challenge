{
  "nbformat": 4,
  "nbformat_minor": 0,
  "metadata": {
    "colab": {
      "name": "Google_Interview_Question.ipynb",
      "provenance": [],
      "collapsed_sections": [],
      "authorship_tag": "ABX9TyMBSDClCb4QpGlIR/LkN89a",
      "include_colab_link": true
    },
    "kernelspec": {
      "name": "python3",
      "display_name": "Python 3"
    },
    "language_info": {
      "name": "python"
    }
  },
  "cells": [
    {
      "cell_type": "markdown",
      "metadata": {
        "id": "view-in-github",
        "colab_type": "text"
      },
      "source": [
        "<a href=\"https://colab.research.google.com/github/tariksitki/Js-Python_Codding_Challenge/blob/main/Google_Interview_Question.ipynb\" target=\"_parent\"><img src=\"https://colab.research.google.com/assets/colab-badge.svg\" alt=\"Open In Colab\"/></a>"
      ]
    },
    {
      "cell_type": "code",
      "execution_count": null,
      "metadata": {
        "id": "fpiJrLkNtkg0"
      },
      "outputs": [],
      "source": [
        "## This is an interview question asked by Google.\n",
        "## Given a list of numbers and a number k, return whether any two numbers \n",
        "## from the list add up to k.\n",
        "## For example, given [10, 15, 3, 7] and k of 17, return true since 10 + 7 is 17."
      ]
    },
    {
      "cell_type": "code",
      "source": [
        "def finder(k, array):\n",
        "  total = 0\n",
        "  for i in array:\n",
        "    for j in array:\n",
        "      if i != j:\n",
        "        if i + j == k:\n",
        "          total = k \n",
        "  return \"True\" if total != 0 else \"False\"\n",
        "\n",
        "finder(17, [10, 15, 3, 7])"
      ],
      "metadata": {
        "colab": {
          "base_uri": "https://localhost:8080/",
          "height": 36
        },
        "id": "bumfIFCktvnZ",
        "outputId": "b7c454ec-8cf0-4905-bb18-9e240c8113d7"
      },
      "execution_count": 7,
      "outputs": [
        {
          "output_type": "execute_result",
          "data": {
            "application/vnd.google.colaboratory.intrinsic+json": {
              "type": "string"
            },
            "text/plain": [
              "'True'"
            ]
          },
          "metadata": {},
          "execution_count": 7
        }
      ]
    }
  ]
}