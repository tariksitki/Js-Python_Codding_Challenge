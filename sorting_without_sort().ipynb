{
  "nbformat": 4,
  "nbformat_minor": 0,
  "metadata": {
    "colab": {
      "name": "sorting_without_sort().ipynb",
      "provenance": [],
      "collapsed_sections": [],
      "authorship_tag": "ABX9TyMY0m6kXKTtAVlyGVdGegNd",
      "include_colab_link": true
    },
    "kernelspec": {
      "name": "python3",
      "display_name": "Python 3"
    },
    "language_info": {
      "name": "python"
    }
  },
  "cells": [
    {
      "cell_type": "markdown",
      "metadata": {
        "id": "view-in-github",
        "colab_type": "text"
      },
      "source": [
        "<a href=\"https://colab.research.google.com/github/tariksitki/Js-Python_Codding_Challenge/blob/main/sorting_without_sort().ipynb\" target=\"_parent\"><img src=\"https://colab.research.google.com/assets/colab-badge.svg\" alt=\"Open In Colab\"/></a>"
      ]
    },
    {
      "cell_type": "code",
      "execution_count": 8,
      "metadata": {
        "colab": {
          "base_uri": "https://localhost:8080/"
        },
        "id": "k9U9ec7HJOef",
        "outputId": "e1b15062-b2a6-4adc-de18-3eaf1e9ab324"
      },
      "outputs": [
        {
          "output_type": "stream",
          "name": "stdout",
          "text": [
            "[2, 11, 12, 45, 77, 99, 333, 999, 8982]\n"
          ]
        }
      ],
      "source": [
        "###  use no sort method \n",
        "\n",
        "\n",
        "mylist  = [999, 333, 2, 8982, 12, 45, 77, 99, 11]\n",
        "\n",
        "for i in range(len(mylist)):\n",
        "  for x in range(i, len(mylist)):\n",
        "    #print(x)\n",
        "    #print(i)\n",
        "\n",
        "    if mylist[i] > mylist[x]:\n",
        "      mylist[i], mylist[x] = mylist[x], mylist[i]\n",
        "\n",
        "print(mylist)"
      ]
    },
    {
      "cell_type": "code",
      "source": [
        ""
      ],
      "metadata": {
        "id": "iCey7d75JS5Z"
      },
      "execution_count": null,
      "outputs": []
    },
    {
      "cell_type": "code",
      "source": [
        ""
      ],
      "metadata": {
        "id": "HK9HaIEeJS7f"
      },
      "execution_count": null,
      "outputs": []
    }
  ]
}