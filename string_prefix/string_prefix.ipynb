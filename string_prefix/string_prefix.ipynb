{
  "nbformat": 4,
  "nbformat_minor": 0,
  "metadata": {
    "colab": {
      "name": "string_prefix.ipynb",
      "provenance": [],
      "collapsed_sections": [],
      "authorship_tag": "ABX9TyNAFzZeUTtOQENhkVFUfHdZ",
      "include_colab_link": true
    },
    "kernelspec": {
      "name": "python3",
      "display_name": "Python 3"
    },
    "language_info": {
      "name": "python"
    }
  },
  "cells": [
    {
      "cell_type": "markdown",
      "metadata": {
        "id": "view-in-github",
        "colab_type": "text"
      },
      "source": [
        "<a href=\"https://colab.research.google.com/github/tariksitki/Js-Python_Codding_Challenge/blob/main/string_prefix.ipynb\" target=\"_parent\"><img src=\"https://colab.research.google.com/assets/colab-badge.svg\" alt=\"Open In Colab\"/></a>"
      ]
    },
    {
      "cell_type": "code",
      "execution_count": 9,
      "metadata": {
        "colab": {
          "base_uri": "https://localhost:8080/"
        },
        "id": "4x18fQT5Hhdc",
        "outputId": "ac7deff4-02f6-4372-f1f8-ba7ee181188b"
      },
      "outputs": [
        {
          "output_type": "execute_result",
          "data": {
            "text/plain": [
              "['deer', 'deal']"
            ]
          },
          "metadata": {},
          "execution_count": 9
        }
      ],
      "source": [
        "def prefix_finder(prefix, array):\n",
        "  result = []\n",
        "  for i in array:\n",
        "    if i.startswith(prefix):\n",
        "      result.append(i)\n",
        "  return result\n",
        "  \n",
        "prefix_finder(\"de\", [\"dog\", \"deer\", \"deal\"])"
      ]
    }
  ]
}