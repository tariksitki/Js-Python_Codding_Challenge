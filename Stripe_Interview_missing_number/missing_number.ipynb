{
  "nbformat": 4,
  "nbformat_minor": 0,
  "metadata": {
    "colab": {
      "name": "missing_number.ipynb",
      "provenance": [],
      "authorship_tag": "ABX9TyOCGfj5b1EXfyUDXRIOvmxQ",
      "include_colab_link": true
    },
    "kernelspec": {
      "name": "python3",
      "display_name": "Python 3"
    },
    "language_info": {
      "name": "python"
    }
  },
  "cells": [
    {
      "cell_type": "markdown",
      "metadata": {
        "id": "view-in-github",
        "colab_type": "text"
      },
      "source": [
        "<a href=\"https://colab.research.google.com/github/tariksitki/Js-Python_Codding_Challenge/blob/main/missing_number.ipynb\" target=\"_parent\"><img src=\"https://colab.research.google.com/assets/colab-badge.svg\" alt=\"Open In Colab\"/></a>"
      ]
    },
    {
      "cell_type": "code",
      "execution_count": 13,
      "metadata": {
        "colab": {
          "base_uri": "https://localhost:8080/"
        },
        "id": "E-QA-Mu36vXM",
        "outputId": "e5800c04-07e8-4fcb-e82a-f29c682f862c"
      },
      "outputs": [
        {
          "output_type": "execute_result",
          "data": {
            "text/plain": [
              "4"
            ]
          },
          "metadata": {},
          "execution_count": 13
        }
      ],
      "source": [
        "def num_finder(array):\n",
        "  result = 0\n",
        "  array.sort()\n",
        "\n",
        "  for i in range(len(array) - 1):\n",
        "    if array[i+1] - array[i] > 1:\n",
        "      result = array[i] + 1\n",
        "      break\n",
        "  if result == 0:\n",
        "    result = array[-1] + 1\n",
        "\n",
        "  return result\n",
        "\n",
        "num_finder([3, 2, 1])"
      ]
    },
    {
      "cell_type": "code",
      "source": [
        ""
      ],
      "metadata": {
        "id": "rdQ6EsvZ62yw"
      },
      "execution_count": null,
      "outputs": []
    }
  ]
}