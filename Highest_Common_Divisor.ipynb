{
  "nbformat": 4,
  "nbformat_minor": 0,
  "metadata": {
    "colab": {
      "name": "Highest_Common_Divisor.ipynb",
      "provenance": [],
      "collapsed_sections": [],
      "authorship_tag": "ABX9TyOhfD1DVe1yF87+otl0zISV",
      "include_colab_link": true
    },
    "kernelspec": {
      "name": "python3",
      "display_name": "Python 3"
    },
    "language_info": {
      "name": "python"
    }
  },
  "cells": [
    {
      "cell_type": "markdown",
      "metadata": {
        "id": "view-in-github",
        "colab_type": "text"
      },
      "source": [
        "<a href=\"https://colab.research.google.com/github/tariksitki/Js-Python_Codding_Challenge/blob/main/Highest_Common_Divisor.ipynb\" target=\"_parent\"><img src=\"https://colab.research.google.com/assets/colab-badge.svg\" alt=\"Open In Colab\"/></a>"
      ]
    },
    {
      "cell_type": "code",
      "execution_count": 14,
      "metadata": {
        "colab": {
          "base_uri": "https://localhost:8080/",
          "height": 107
        },
        "id": "AtRKT6ETOogA",
        "outputId": "a3f1dd5c-fe8f-4fd1-8beb-38841137c63f"
      },
      "outputs": [
        {
          "name": "stdout",
          "output_type": "stream",
          "text": [
            "Please enter two Number to calculate highest Divisor:  \n",
            "(Please put space between Numbers)\n",
            "\n",
            "1000000 300\n"
          ]
        },
        {
          "output_type": "execute_result",
          "data": {
            "application/vnd.google.colaboratory.intrinsic+json": {
              "type": "string"
            },
            "text/plain": [
              "'The highest Divisor of 300 and 1000000 = 100'"
            ]
          },
          "metadata": {},
          "execution_count": 14
        }
      ],
      "source": [
        "def high_divisor():\n",
        "  little_number = 0\n",
        "  big_number = 0\n",
        "  user = input(\"Please enter two Number to calculate highest Divisor:\\\n",
        "  \\n(Please put space between Numbers)\\n\\n\").split()\n",
        "  if int(user[0]) > int(user[1]):\n",
        "    big_number = int(user[0])\n",
        "    little_number = int(user[1])\n",
        "  elif int(user[0]) < int(user[1]):\n",
        "    big_number = int(user[1])\n",
        "    little_number = int(user[0])\n",
        "\n",
        "  result = 0\n",
        "  for i in range(1, little_number + 1):\n",
        "    if little_number % i == 0 and big_number % i == 0:\n",
        "      result = i\n",
        "  return f\"The highest Divisor of {little_number} and {big_number} = {result}\"\n",
        "\n",
        "high_divisor()"
      ]
    }
  ]
}